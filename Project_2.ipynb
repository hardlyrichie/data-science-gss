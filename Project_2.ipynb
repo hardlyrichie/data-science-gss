{
  "nbformat": 4,
  "nbformat_minor": 0,
  "metadata": {
    "colab": {
      "name": "Project 2.ipynb",
      "provenance": [],
      "collapsed_sections": [],
      "toc_visible": true,
      "mount_file_id": "1hpbCWSeWbdUzntRVbKpze-q465nCAlna",
      "authorship_tag": "ABX9TyO6yRK3Emlk1ZLmo5iQ0mg1",
      "include_colab_link": true
    },
    "kernelspec": {
      "name": "python3",
      "display_name": "Python 3"
    }
  },
  "cells": [
    {
      "cell_type": "markdown",
      "metadata": {
        "id": "view-in-github",
        "colab_type": "text"
      },
      "source": [
        "<a href=\"https://colab.research.google.com/github/hardlyrichie/data-science-gss/blob/master/Project_2.ipynb\" target=\"_parent\"><img src=\"https://colab.research.google.com/assets/colab-badge.svg\" alt=\"Open In Colab\"/></a>"
      ]
    },
    {
      "cell_type": "markdown",
      "metadata": {
        "id": "1jxPRpuiCE8e",
        "colab_type": "text"
      },
      "source": [
        "# Exploring factors impacting mental health \n",
        "\n",
        "Data Science Project 2\n",
        "\n",
        "Richard Gao"
      ]
    },
    {
      "cell_type": "code",
      "metadata": {
        "id": "uBj0EmrACBq5",
        "colab_type": "code",
        "outputId": "db4c05a6-569d-456c-a7af-7a4d2cc63369",
        "colab": {
          "base_uri": "https://localhost:8080/",
          "height": 51
        }
      },
      "source": [
        "import pandas as pd\n",
        "import numpy as np\n",
        "import matplotlib.pyplot as plt\n",
        "import seaborn as sns"
      ],
      "execution_count": 0,
      "outputs": [
        {
          "output_type": "stream",
          "text": [
            "/usr/local/lib/python3.6/dist-packages/statsmodels/tools/_testing.py:19: FutureWarning: pandas.util.testing is deprecated. Use the functions in the public API at pandas.testing instead.\n",
            "  import pandas.util.testing as tm\n"
          ],
          "name": "stderr"
        }
      ]
    },
    {
      "cell_type": "markdown",
      "metadata": {
        "id": "QqOWhn2JHgzu",
        "colab_type": "text"
      },
      "source": [
        "## Exploring the Data"
      ]
    },
    {
      "cell_type": "markdown",
      "metadata": {
        "id": "-0Tbe1eEG5Iq",
        "colab_type": "text"
      },
      "source": [
        "I setup the `read_stata_dict` function provided by Allen Downey to read in GSS strata data into Pandas. "
      ]
    },
    {
      "cell_type": "code",
      "metadata": {
        "id": "8fIXuvWkG1ad",
        "colab_type": "code",
        "colab": {}
      },
      "source": [
        "import re\n",
        "\n",
        "def read_stata_dict(fp, **options):\n",
        "    \"\"\"Reads a Stata dictionary file.\n",
        "\n",
        "    fp: open file pointer\n",
        "    options: dict of options passed to open()\n",
        "\n",
        "    returns: DataFrame\n",
        "    \"\"\"\n",
        "    type_map = dict(byte=int, int=int, long=int, float=float,\n",
        "                    double=float, numeric=float)\n",
        "\n",
        "    var_info = []\n",
        "    for line in fp:\n",
        "        match = re.search(r'_column\\(([^)]*)\\)', line)\n",
        "        if not match:\n",
        "            continue\n",
        "        start = int(match.group(1))\n",
        "        t = line.split()\n",
        "        vtype, name, fstring = t[1:4]\n",
        "        name = name.lower()\n",
        "        if vtype.startswith('str'):\n",
        "            vtype = str\n",
        "        else:\n",
        "            vtype = type_map[vtype]\n",
        "        long_desc = ' '.join(t[4:]).strip('\"')\n",
        "        var_info.append((start, vtype, name, fstring, long_desc))\n",
        "\n",
        "    columns = ['start', 'type', 'name', 'fstring', 'desc']\n",
        "    variables = pd.DataFrame(var_info, columns=columns)\n",
        "\n",
        "    # fill in the end column by shifting the start column\n",
        "    # NOTE: the last column doesn't work\n",
        "    variables['end'] = variables.start.shift(-1, fill_value=0)\n",
        "\n",
        "    return variables"
      ],
      "execution_count": 0,
      "outputs": []
    },
    {
      "cell_type": "code",
      "metadata": {
        "id": "N1R5lxqPG4Jz",
        "colab_type": "code",
        "colab": {}
      },
      "source": [
        ""
      ],
      "execution_count": 0,
      "outputs": []
    }
  ]
}