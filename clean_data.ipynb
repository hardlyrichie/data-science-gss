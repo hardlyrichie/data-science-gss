{
  "nbformat": 4,
  "nbformat_minor": 0,
  "metadata": {
    "colab": {
      "name": "clean_data.ipynb",
      "provenance": [],
      "collapsed_sections": [],
      "authorship_tag": "ABX9TyN1wwFyG8XWtT2GNN/N5gbG",
      "include_colab_link": true
    },
    "kernelspec": {
      "name": "python3",
      "display_name": "Python 3"
    }
  },
  "cells": [
    {
      "cell_type": "markdown",
      "metadata": {
        "id": "view-in-github",
        "colab_type": "text"
      },
      "source": [
        "<a href=\"https://colab.research.google.com/github/hardlyrichie/data-science-gss/blob/master/clean_data.ipynb\" target=\"_parent\"><img src=\"https://colab.research.google.com/assets/colab-badge.svg\" alt=\"Open In Colab\"/></a>"
      ]
    },
    {
      "cell_type": "markdown",
      "metadata": {
        "id": "kCYprZxPKrlT",
        "colab_type": "text"
      },
      "source": [
        "# Cleaning Data\n",
        "\n",
        "This notebook reads in the gss strata data and packages it into a more managable hdf5 file. The motivation behind putting this in a separate notebook is that for stratified sampling to work, I had to copy the weights (`wtssall`) from Allen's gss data. When I export the `wtssall` data from my gss variables, they are all `NaN`. I have tried debugging for a long time, but couldn't get any results. Therefore, I opted to replace my `wtssall` data with Allen's."
      ]
    },
    {
      "cell_type": "markdown",
      "metadata": {
        "id": "ha7j42NULZRh",
        "colab_type": "text"
      },
      "source": [
        "## Reading in data"
      ]
    },
    {
      "cell_type": "code",
      "metadata": {
        "id": "dV-KA6XOq-8T",
        "colab_type": "code",
        "colab": {}
      },
      "source": [
        "import pandas as pd\n",
        "import numpy as np"
      ],
      "execution_count": 0,
      "outputs": []
    },
    {
      "cell_type": "code",
      "metadata": {
        "id": "YPAIcxJC6jLR",
        "colab_type": "code",
        "colab": {}
      },
      "source": [
        "import re\n",
        "\n",
        "def read_stata_dict(fp, **options):\n",
        "    \"\"\"Reads a Stata dictionary file.\n",
        "\n",
        "    fp: open file pointer\n",
        "    options: dict of options passed to open()\n",
        "\n",
        "    returns: DataFrame\n",
        "    \"\"\"\n",
        "    type_map = dict(byte=int, int=int, long=int, float=float,\n",
        "                    double=float, numeric=float)\n",
        "\n",
        "    var_info = []\n",
        "    for line in fp:\n",
        "        match = re.search(r'_column\\(([^)]*)\\)', line)\n",
        "        if not match:\n",
        "            continue\n",
        "        start = int(match.group(1))\n",
        "        t = line.split()\n",
        "        vtype, name, fstring = t[1:4]\n",
        "        name = name.lower()\n",
        "        if vtype.startswith('str'):\n",
        "            vtype = str\n",
        "        else:\n",
        "            vtype = type_map[vtype]\n",
        "        long_desc = ' '.join(t[4:]).strip('\"')\n",
        "        var_info.append((start, vtype, name, fstring, long_desc))\n",
        "\n",
        "    columns = ['start', 'type', 'name', 'fstring', 'desc']\n",
        "    variables = pd.DataFrame(var_info, columns=columns)\n",
        "\n",
        "    # fill in the end column by shifting the start column\n",
        "    # NOTE: the last column doesn't work\n",
        "    variables['end'] = variables.start.shift(-1, fill_value=0)\n",
        "\n",
        "    return variables"
      ],
      "execution_count": 0,
      "outputs": []
    },
    {
      "cell_type": "code",
      "metadata": {
        "id": "GGMGG49C6iKi",
        "colab_type": "code",
        "colab": {
          "base_uri": "https://localhost:8080/",
          "height": 289
        },
        "outputId": "3a87e391-e588-4d89-d33d-8d74133c1eb6"
      },
      "source": [
        "# Load the data file\n",
        "\n",
        "import os\n",
        "\n",
        "if not os.path.exists('gss_eda.tar.gz'):\n",
        "    !wget https://github.com/AllenDowney/PoliticalAlignmentCaseStudy/raw/master/gss_eda.tar.gz\n",
        "    !tar -xzf gss_eda.tar.gz"
      ],
      "execution_count": 3,
      "outputs": [
        {
          "output_type": "stream",
          "text": [
            "--2020-05-04 05:37:09--  https://github.com/AllenDowney/PoliticalAlignmentCaseStudy/raw/master/gss_eda.tar.gz\n",
            "Resolving github.com (github.com)... 140.82.114.3\n",
            "Connecting to github.com (github.com)|140.82.114.3|:443... connected.\n",
            "HTTP request sent, awaiting response... 302 Found\n",
            "Location: https://raw.githubusercontent.com/AllenDowney/PoliticalAlignmentCaseStudy/master/gss_eda.tar.gz [following]\n",
            "--2020-05-04 05:37:11--  https://raw.githubusercontent.com/AllenDowney/PoliticalAlignmentCaseStudy/master/gss_eda.tar.gz\n",
            "Resolving raw.githubusercontent.com (raw.githubusercontent.com)... 151.101.0.133, 151.101.64.133, 151.101.128.133, ...\n",
            "Connecting to raw.githubusercontent.com (raw.githubusercontent.com)|151.101.0.133|:443... connected.\n",
            "HTTP request sent, awaiting response... 200 OK\n",
            "Length: 7147633 (6.8M) [application/octet-stream]\n",
            "Saving to: ‘gss_eda.tar.gz’\n",
            "\n",
            "gss_eda.tar.gz      100%[===================>]   6.82M  15.8MB/s    in 0.4s    \n",
            "\n",
            "2020-05-04 05:37:13 (15.8 MB/s) - ‘gss_eda.tar.gz’ saved [7147633/7147633]\n",
            "\n"
          ],
          "name": "stdout"
        }
      ]
    },
    {
      "cell_type": "code",
      "metadata": {
        "id": "ktdqO0BU8cZy",
        "colab_type": "code",
        "colab": {}
      },
      "source": [
        "with open('GSS.dct') as fp:\n",
        "    variables = read_stata_dict(fp)\n",
        "colspecs = variables[['start', 'end']]\n",
        "names = variables['name']\n",
        "with open('GSS.dat') as fp:\n",
        "    gss = pd.read_fwf(fp,\n",
        "                      colspecs=colspecs.values.tolist(),\n",
        "                      names=names)\n",
        "allen_weights = gss['wtssall']"
      ],
      "execution_count": 0,
      "outputs": []
    },
    {
      "cell_type": "code",
      "metadata": {
        "id": "LToTG5I08f8y",
        "colab_type": "code",
        "colab": {
          "base_uri": "https://localhost:8080/",
          "height": 289
        },
        "outputId": "a9ed6521-c320-46b2-bfbc-237ba7daf5e2"
      },
      "source": [
        "if not os.path.exists('GSS.tar.gz'):\n",
        "    !wget https://github.com/hardlyrichie/data-science-gss/raw/master/GSS.tar.gz\n",
        "    !tar -xzf GSS.tar.gz"
      ],
      "execution_count": 5,
      "outputs": [
        {
          "output_type": "stream",
          "text": [
            "--2020-05-04 05:37:28--  https://github.com/hardlyrichie/data-science-gss/raw/master/GSS.tar.gz\n",
            "Resolving github.com (github.com)... 140.82.114.4\n",
            "Connecting to github.com (github.com)|140.82.114.4|:443... connected.\n",
            "HTTP request sent, awaiting response... 302 Found\n",
            "Location: https://raw.githubusercontent.com/hardlyrichie/data-science-gss/master/GSS.tar.gz [following]\n",
            "--2020-05-04 05:37:28--  https://raw.githubusercontent.com/hardlyrichie/data-science-gss/master/GSS.tar.gz\n",
            "Resolving raw.githubusercontent.com (raw.githubusercontent.com)... 151.101.0.133, 151.101.64.133, 151.101.128.133, ...\n",
            "Connecting to raw.githubusercontent.com (raw.githubusercontent.com)|151.101.0.133|:443... connected.\n",
            "HTTP request sent, awaiting response... 200 OK\n",
            "Length: 453489 (443K) [application/octet-stream]\n",
            "Saving to: ‘GSS.tar.gz’\n",
            "\n",
            "GSS.tar.gz          100%[===================>] 442.86K  --.-KB/s    in 0.07s   \n",
            "\n",
            "2020-05-04 05:37:30 (5.87 MB/s) - ‘GSS.tar.gz’ saved [453489/453489]\n",
            "\n"
          ],
          "name": "stdout"
        }
      ]
    },
    {
      "cell_type": "code",
      "metadata": {
        "id": "tPkG0N3A8nLm",
        "colab_type": "code",
        "colab": {}
      },
      "source": [
        "with open('GSS.dct') as fp:\n",
        "    variables = read_stata_dict(fp)\n",
        "colspecs = variables[['start', 'end']]\n",
        "names = variables['name']\n",
        "with open('GSS.dat') as fp:\n",
        "    gss = pd.read_fwf(fp,\n",
        "                      colspecs=colspecs.values.tolist(),\n",
        "                      names=names)"
      ],
      "execution_count": 0,
      "outputs": []
    },
    {
      "cell_type": "markdown",
      "metadata": {
        "id": "7xM6zM2lLkAW",
        "colab_type": "text"
      },
      "source": [
        "As you can see, my `wtssall` column is just `NaN`. "
      ]
    },
    {
      "cell_type": "code",
      "metadata": {
        "id": "r5yQxBdu8rA6",
        "colab_type": "code",
        "colab": {
          "base_uri": "https://localhost:8080/",
          "height": 204
        },
        "outputId": "c4b3bcc8-37aa-46f0-8c48-a1964996f8e9"
      },
      "source": [
        "gss.tail()"
      ],
      "execution_count": 7,
      "outputs": [
        {
          "output_type": "execute_result",
          "data": {
            "text/html": [
              "<div>\n",
              "<style scoped>\n",
              "    .dataframe tbody tr th:only-of-type {\n",
              "        vertical-align: middle;\n",
              "    }\n",
              "\n",
              "    .dataframe tbody tr th {\n",
              "        vertical-align: top;\n",
              "    }\n",
              "\n",
              "    .dataframe thead th {\n",
              "        text-align: right;\n",
              "    }\n",
              "</style>\n",
              "<table border=\"1\" class=\"dataframe\">\n",
              "  <thead>\n",
              "    <tr style=\"text-align: right;\">\n",
              "      <th></th>\n",
              "      <th>year</th>\n",
              "      <th>id_</th>\n",
              "      <th>rincome</th>\n",
              "      <th>relig</th>\n",
              "      <th>happy</th>\n",
              "      <th>mntlhlth</th>\n",
              "      <th>satjob1</th>\n",
              "      <th>ballot</th>\n",
              "      <th>wtssall</th>\n",
              "    </tr>\n",
              "  </thead>\n",
              "  <tbody>\n",
              "    <tr>\n",
              "      <th>64809</th>\n",
              "      <td>2018</td>\n",
              "      <td>2344</td>\n",
              "      <td>13</td>\n",
              "      <td>1</td>\n",
              "      <td>2</td>\n",
              "      <td>0</td>\n",
              "      <td>2</td>\n",
              "      <td>1</td>\n",
              "      <td>NaN</td>\n",
              "    </tr>\n",
              "    <tr>\n",
              "      <th>64810</th>\n",
              "      <td>2018</td>\n",
              "      <td>2345</td>\n",
              "      <td>10</td>\n",
              "      <td>1</td>\n",
              "      <td>2</td>\n",
              "      <td>0</td>\n",
              "      <td>1</td>\n",
              "      <td>1</td>\n",
              "      <td>NaN</td>\n",
              "    </tr>\n",
              "    <tr>\n",
              "      <th>64811</th>\n",
              "      <td>2018</td>\n",
              "      <td>2346</td>\n",
              "      <td>3</td>\n",
              "      <td>3</td>\n",
              "      <td>1</td>\n",
              "      <td>-1</td>\n",
              "      <td>0</td>\n",
              "      <td>3</td>\n",
              "      <td>NaN</td>\n",
              "    </tr>\n",
              "    <tr>\n",
              "      <th>64812</th>\n",
              "      <td>2018</td>\n",
              "      <td>2347</td>\n",
              "      <td>0</td>\n",
              "      <td>1</td>\n",
              "      <td>1</td>\n",
              "      <td>-1</td>\n",
              "      <td>0</td>\n",
              "      <td>2</td>\n",
              "      <td>NaN</td>\n",
              "    </tr>\n",
              "    <tr>\n",
              "      <th>64813</th>\n",
              "      <td>2018</td>\n",
              "      <td>2348</td>\n",
              "      <td>0</td>\n",
              "      <td>2</td>\n",
              "      <td>1</td>\n",
              "      <td>-1</td>\n",
              "      <td>0</td>\n",
              "      <td>1</td>\n",
              "      <td>NaN</td>\n",
              "    </tr>\n",
              "  </tbody>\n",
              "</table>\n",
              "</div>"
            ],
            "text/plain": [
              "       year   id_  rincome  relig  happy  mntlhlth  satjob1  ballot  wtssall\n",
              "64809  2018  2344       13      1      2         0        2       1      NaN\n",
              "64810  2018  2345       10      1      2         0        1       1      NaN\n",
              "64811  2018  2346        3      3      1        -1        0       3      NaN\n",
              "64812  2018  2347        0      1      1        -1        0       2      NaN\n",
              "64813  2018  2348        0      2      1        -1        0       1      NaN"
            ]
          },
          "metadata": {
            "tags": []
          },
          "execution_count": 7
        }
      ]
    },
    {
      "cell_type": "code",
      "metadata": {
        "id": "3YbMQrbb8sHJ",
        "colab_type": "code",
        "colab": {
          "base_uri": "https://localhost:8080/",
          "height": 204
        },
        "outputId": "95a999da-5b5a-4975-f616-be36335abe82"
      },
      "source": [
        "gss['wtssall'] = allen_weights\n",
        "gss.tail()"
      ],
      "execution_count": 8,
      "outputs": [
        {
          "output_type": "execute_result",
          "data": {
            "text/html": [
              "<div>\n",
              "<style scoped>\n",
              "    .dataframe tbody tr th:only-of-type {\n",
              "        vertical-align: middle;\n",
              "    }\n",
              "\n",
              "    .dataframe tbody tr th {\n",
              "        vertical-align: top;\n",
              "    }\n",
              "\n",
              "    .dataframe thead th {\n",
              "        text-align: right;\n",
              "    }\n",
              "</style>\n",
              "<table border=\"1\" class=\"dataframe\">\n",
              "  <thead>\n",
              "    <tr style=\"text-align: right;\">\n",
              "      <th></th>\n",
              "      <th>year</th>\n",
              "      <th>id_</th>\n",
              "      <th>rincome</th>\n",
              "      <th>relig</th>\n",
              "      <th>happy</th>\n",
              "      <th>mntlhlth</th>\n",
              "      <th>satjob1</th>\n",
              "      <th>ballot</th>\n",
              "      <th>wtssall</th>\n",
              "    </tr>\n",
              "  </thead>\n",
              "  <tbody>\n",
              "    <tr>\n",
              "      <th>64809</th>\n",
              "      <td>2018</td>\n",
              "      <td>2344</td>\n",
              "      <td>13</td>\n",
              "      <td>1</td>\n",
              "      <td>2</td>\n",
              "      <td>0</td>\n",
              "      <td>2</td>\n",
              "      <td>1</td>\n",
              "      <td>0.471499</td>\n",
              "    </tr>\n",
              "    <tr>\n",
              "      <th>64810</th>\n",
              "      <td>2018</td>\n",
              "      <td>2345</td>\n",
              "      <td>10</td>\n",
              "      <td>1</td>\n",
              "      <td>2</td>\n",
              "      <td>0</td>\n",
              "      <td>1</td>\n",
              "      <td>1</td>\n",
              "      <td>0.942997</td>\n",
              "    </tr>\n",
              "    <tr>\n",
              "      <th>64811</th>\n",
              "      <td>2018</td>\n",
              "      <td>2346</td>\n",
              "      <td>3</td>\n",
              "      <td>3</td>\n",
              "      <td>1</td>\n",
              "      <td>-1</td>\n",
              "      <td>0</td>\n",
              "      <td>3</td>\n",
              "      <td>0.942997</td>\n",
              "    </tr>\n",
              "    <tr>\n",
              "      <th>64812</th>\n",
              "      <td>2018</td>\n",
              "      <td>2347</td>\n",
              "      <td>0</td>\n",
              "      <td>1</td>\n",
              "      <td>1</td>\n",
              "      <td>-1</td>\n",
              "      <td>0</td>\n",
              "      <td>2</td>\n",
              "      <td>0.942997</td>\n",
              "    </tr>\n",
              "    <tr>\n",
              "      <th>64813</th>\n",
              "      <td>2018</td>\n",
              "      <td>2348</td>\n",
              "      <td>0</td>\n",
              "      <td>2</td>\n",
              "      <td>1</td>\n",
              "      <td>-1</td>\n",
              "      <td>0</td>\n",
              "      <td>1</td>\n",
              "      <td>0.471499</td>\n",
              "    </tr>\n",
              "  </tbody>\n",
              "</table>\n",
              "</div>"
            ],
            "text/plain": [
              "       year   id_  rincome  relig  happy  mntlhlth  satjob1  ballot   wtssall\n",
              "64809  2018  2344       13      1      2         0        2       1  0.471499\n",
              "64810  2018  2345       10      1      2         0        1       1  0.942997\n",
              "64811  2018  2346        3      3      1        -1        0       3  0.942997\n",
              "64812  2018  2347        0      1      1        -1        0       2  0.942997\n",
              "64813  2018  2348        0      2      1        -1        0       1  0.471499"
            ]
          },
          "metadata": {
            "tags": []
          },
          "execution_count": 8
        }
      ]
    },
    {
      "cell_type": "markdown",
      "metadata": {
        "id": "9o9JNy6Y820-",
        "colab_type": "text"
      },
      "source": [
        "## Perform stratified resampling"
      ]
    },
    {
      "cell_type": "code",
      "metadata": {
        "id": "fKJ2ZCW484F3",
        "colab_type": "code",
        "colab": {}
      },
      "source": [
        "def resample_rows_weighted(df, column):\n",
        "    \"\"\"Resamples a DataFrame using probabilities proportional to given column.\n",
        "\n",
        "    df: DataFrame\n",
        "    column: string column name to use as weights\n",
        "\n",
        "    returns: DataFrame\n",
        "    \"\"\"\n",
        "    weights = df[column]\n",
        "    sample = df.sample(n=len(df), replace=True, weights=weights)\n",
        "    return sample"
      ],
      "execution_count": 0,
      "outputs": []
    },
    {
      "cell_type": "code",
      "metadata": {
        "id": "XEit0_Hp87ta",
        "colab_type": "code",
        "colab": {}
      },
      "source": [
        "def resample_by_year(df, column):\n",
        "    \"\"\"Resample rows within each year.\n",
        "\n",
        "    df: DataFrame\n",
        "    column: string name of weight variable\n",
        "\n",
        "    returns DataFrame\n",
        "    \"\"\"\n",
        "    grouped = df.groupby('year')\n",
        "    samples = [resample_rows_weighted(group, column)\n",
        "               for _, group in grouped]\n",
        "    sample = pd.concat(samples, ignore_index=True)\n",
        "    return sample"
      ],
      "execution_count": 0,
      "outputs": []
    },
    {
      "cell_type": "code",
      "metadata": {
        "id": "XYgwNRmR88i2",
        "colab_type": "code",
        "colab": {}
      },
      "source": [
        "np.random.seed(21)\n",
        "sample = resample_by_year(gss, 'wtssall')"
      ],
      "execution_count": 0,
      "outputs": []
    },
    {
      "cell_type": "markdown",
      "metadata": {
        "id": "LOkaXE6U9HLV",
        "colab_type": "text"
      },
      "source": [
        "## Save results into HDF5 file"
      ]
    },
    {
      "cell_type": "code",
      "metadata": {
        "id": "SajKWcgU89sC",
        "colab_type": "code",
        "colab": {}
      },
      "source": [
        "gss.to_hdf('gss.hdf5', 'gss', complevel=3)"
      ],
      "execution_count": 0,
      "outputs": []
    },
    {
      "cell_type": "code",
      "metadata": {
        "id": "PYszgizk9WTH",
        "colab_type": "code",
        "colab": {}
      },
      "source": [
        ""
      ],
      "execution_count": 0,
      "outputs": []
    }
  ]
}